{
 "metadata": {
  "language_info": {
   "codemirror_mode": {
    "name": "ipython",
    "version": 3
   },
   "file_extension": ".py",
   "mimetype": "text/x-python",
   "name": "python",
   "nbconvert_exporter": "python",
   "pygments_lexer": "ipython3",
   "version": "3.7.4"
  },
  "orig_nbformat": 2,
  "kernelspec": {
   "name": "python374jvsc74a57bd05bb92a85c9a1f15da6b689aacf75061d89825faba8bdf21749792174943e74b5",
   "display_name": "Python 3.7.4 64-bit ('base': conda)"
  }
 },
 "nbformat": 4,
 "nbformat_minor": 2,
 "cells": [
  {
   "source": [
    "Jupyter Script to calculate all the applicable parameters in the K3 Dosimetrie und Strahlenschutz Experiment\n"
   ],
   "cell_type": "markdown",
   "metadata": {}
  },
  {
   "source": [
    "Aufgabe 1: To Calculate the Backgroundradiation "
   ],
   "cell_type": "markdown",
   "metadata": {}
  },
  {
   "cell_type": "code",
   "execution_count": 3,
   "metadata": {},
   "outputs": [
    {
     "output_type": "stream",
     "name": "stdout",
     "text": [
      "Nett-Zählrate für die Untergrundstrahlung ist 1.7±0.053337541500647866 Bq\n"
     ]
    }
   ],
   "source": [
    "Background Radiation\n",
    "#Zählrate N, Zeit T\n",
    "import math \n",
    "N_n = float(input('Input the Zählrate as an integer:\\n'))\n",
    "T = float(input('Input time in minutes:\\n'))\n",
    "T_in_s = T*60\n",
    "delta_N_n = math.sqrt(N_n)\n",
    "delta_T_in_s = float(input('Input Time Unischerheit in s:\\n'))\n",
    "netto_zählrate_r_n = N_n/T_in_s\n",
    "#Gaussian Fehler = sqrt( (del_N*ddN)^2 + (del_t*ddt)^2)\n",
    "ddN = abs(1/T_in_s)\n",
    "ddt = abs((-N_n) / (T_in_s)**2)\n",
    "gauss_r_n = math.sqrt(((ddN*delta_N_n)**2 )+ ((ddt*delta_T_in_s)**2))\n",
    "print(f'Nett-Zählrate für die Untergrundstrahlung ist {netto_zählrate_r_n}±{gauss_r_n} Bq')\n"
   ]
  },
  {
   "source": [
    "Messe die Zählrate für die Kalibrierquelle"
   ],
   "cell_type": "markdown",
   "metadata": {}
  },
  {
   "cell_type": "code",
   "execution_count": 4,
   "metadata": {},
   "outputs": [
    {
     "output_type": "stream",
     "name": "stdout",
     "text": [
      "The Netto-Zählrate for your Kalibrationsquelle at Abstand 10.0 cm or 0.1 m is 14.783333333333333 ± 0.4963757537278477 Bq\n"
     ]
    }
   ],
   "source": [
    "N_k = float(input('Input the Zählrate for your Calibration:\\n'))\n",
    "delta_N_k = math.sqrt(N_k)\n",
    "t_k = float(input('Input the time in min:\\n'))\n",
    "t_k_in_s = t_k*60\n",
    "delta_t_k_in_s = 0\n",
    "r = float(input('Input your Abstand in cm:\\n'))\n",
    "r_in_m = r*(10**(-2))\n",
    "delta_r = float(input('Input your Unsicherheit for r in mm:\\n'))\n",
    "delta_r = delta_r * (10**(-3))\n",
    "\n",
    "netto_zählrate_r_k = N_k / t_k_in_s\n",
    "\n",
    "#What is the significance of r here? k_3 a_punkt vs k_0 netto_zählrate ??? \n",
    "\n",
    "ddN_k = abs(1/t_k_in_s)\n",
    "ddt_k = abs((-N_k) / (t_k_in_s)**2)\n",
    "gauss_r_k = math.sqrt(((ddN_k*delta_N_k)**2 )+ ((ddt_k*delta_t_k_in_s)**2))\n",
    "\n",
    "print(f'The Netto-Zählrate for your Kalibrationsquelle at Abstand {r} cm or {r_in_m} m is {netto_zählrate_r_k} ± {gauss_r_k} Bq')\n",
    "\n",
    "\n",
    "\n"
   ]
  },
  {
   "source": [
    "Messe die Zählrate für eine unbekannte Präparat"
   ],
   "cell_type": "markdown",
   "metadata": {}
  },
  {
   "cell_type": "code",
   "execution_count": 5,
   "metadata": {},
   "outputs": [
    {
     "output_type": "stream",
     "name": "stdout",
     "text": [
      "The Netto-Zählrate for your Unbekannte Präparat at Abstand 10.0 cm or 0.1 m is 16.9 ± 0.5307227776030219 Bq\n"
     ]
    }
   ],
   "source": [
    "N_unbk = float(input('Input the Zählrate for your Unknown Präparat:\\n'))\n",
    "delta_N_unbk = math.sqrt(N_unbk)\n",
    "t_unbk = float(input('Input the time in min:\\n'))\n",
    "t_unbk_in_s = t_unbk*60\n",
    "delta_t_unbk_in_s = 0\n",
    "r_unbk = float(input('Input your Abstand in cm:\\n'))\n",
    "r_unbk_in_m = r_unbk*(10**(-2))\n",
    "delta_r_unbk = float(input('Input your Unsicherheit for r in mm:\\n'))\n",
    "delta_r_unbk = delta_r_unbk * (10**(-3))\n",
    "\n",
    "netto_zählrate_r_unbk = N_unbk / t_unbk_in_s\n",
    "\n",
    "#What is the significance of r here? k_3 a_punkt vs k_0 netto_zählrate ??? \n",
    "\n",
    "ddN_unbk = abs(1/t_unbk_in_s)\n",
    "ddt_unbk = abs((-N_unbk) / (t_unbk_in_s)**2)\n",
    "gauss_r_unbk = math.sqrt(((ddN_unbk*delta_N_unbk)**2 )+ ((ddt_unbk*delta_t_unbk_in_s)**2))\n",
    "\n",
    "print(f'The Netto-Zählrate for your Unbekannte Präparat at Abstand {r_unbk} cm or {r_unbk_in_m} m is {netto_zählrate_r_unbk} ± {gauss_r_unbk} Bq')\n"
   ]
  },
  {
   "cell_type": "code",
   "execution_count": 7,
   "metadata": {},
   "outputs": [],
   "source": [
    "import numpy as np"
   ]
  },
  {
   "source": [
    "Now, we will input our Measurements in a numpy array and get their value worth and averages in order to calculate the Dosisleistung once for 10cm and then again for 20 cm Abstand jeweils auch für gescholessenen und offenen Zustand\n",
    "Legend: \n",
    "r= 10cm geschlossen,\n",
    "r=10 cm offen,\n",
    "r=20cm geschlossen,\n",
    "r=20cm offen,"
   ],
   "cell_type": "markdown",
   "metadata": {}
  },
  {
   "cell_type": "code",
   "execution_count": 8,
   "metadata": {},
   "outputs": [
    {
     "output_type": "execute_result",
     "data": {
      "text/plain": [
       "array([[3.32, 3.42, 2.84, 2.65, 3.07, 3.84, 3.1 , 3.65, 3.49, 3.99],\n",
       "       [3.51, 2.  , 2.33, 2.12, 2.25, 2.44, 2.23, 2.75, 2.33, 2.03],\n",
       "       [0.95, 0.79, 0.97, 0.71, 0.69, 1.19, 0.96, 0.94, 1.45, 1.01],\n",
       "       [0.73, 0.91, 0.75, 0.66, 0.55, 0.46, 1.05, 0.41, 0.69, 0.88]])"
      ]
     },
     "metadata": {},
     "execution_count": 8
    }
   ],
   "source": [
    "dlsarray = np.array([\n",
    "    [3.32, 3.42, 2.84, 2.65, 3.07, 3.84, 3.10, 3.65, 3.49,3.99],\n",
    "    [3.51, 2.00, 2.33, 2.12, 2.25, 2.44, 2.23, 2.75, 2.33,2.03],\n",
    "    [0.95, 0.79, 0.97, 0.71, 0.69, 1.19, 0.96, 0.94, 1.45, 1.01],\n",
    "    [0.73, 0.91, 0.75, 0.66, 0.55, 0.46, 1.05, 0.41, 0.69, 0.88]\n",
    "])\n",
    "# I could also technically do this with pandas as with machine learning with the namings of cols and all\n",
    "# But I know numpy more recently than pandas at this point\n",
    "#Lets just do this\n",
    "dlsarray"
   ]
  },
  {
   "cell_type": "code",
   "execution_count": 18,
   "metadata": {},
   "outputs": [
    {
     "output_type": "stream",
     "name": "stdout",
     "text": [
      "sum=33.370000000000005, r=10cm, offene Blende; \n Durchschnitt ergibt sich zu 3.3370000000000006 ± 0.13558146382648822 Einheit: microSv/hour\nsum=23.990000000000002, r=10cm, geschlossene Blende; \n Durchschnitt ergibt sich zu 2.399 ± 0.14113390017206273 Einheit: microSv/hour\nsum=9.659999999999998, r=20cm, offene Blende; \n Durchschnitt ergibt sich zu 0.9659999999999999 ± 0.07149514358021498 Einheit: microSv/hour\nsum=7.089999999999999, r=20cm, geschlossene Belnde; \n Durchschnitt ergibt sich zu 0.7089999999999999 ± 0.06390009563547008 Einheit: microSv/hour\n"
     ]
    }
   ],
   "source": [
    "#offene\n",
    "sum10g = np.sum(dlsarray[0,:])\n",
    "avg_10_g = np.sum(dlsarray[0,:])/10\n",
    "std_10_o = np.sqrt( np.sum((avg_10_g - dlsarray[0,:])**2) / (10*9))\n",
    "print(f'sum={sum10g}, r=10cm, offene Blende; \\n Durchschnitt ergibt sich zu {avg_10_g} ± {std_10_o} Einheit: microSv/hour')\n",
    "\n",
    "sum10o = np.sum(dlsarray[1,:])\n",
    "avg_10_o = np.sum(dlsarray[1,:])/10\n",
    "std_10_g = np.sqrt( np.sum((avg_10_o - dlsarray[1,:])**2) / (10*9))\n",
    "print(f'sum={sum10o}, r=10cm, geschlossene Blende; \\n Durchschnitt ergibt sich zu {avg_10_o} ± {std_10_g} Einheit: microSv/hour')\n",
    "\n",
    "sum20g = np.sum(dlsarray[2,:])\n",
    "avg_20_g = np.sum(dlsarray[2,:])/10\n",
    "std_20_o = np.sqrt( np.sum((avg_20_g - dlsarray[2,:])**2 )/ (10*9))\n",
    "print(f'sum={sum20g}, r=20cm, offene Blende; \\n Durchschnitt ergibt sich zu {avg_20_g} ± {std_20_o} Einheit: microSv/hour')\n",
    "\n",
    "sum20o = np.sum(dlsarray[3,:])\n",
    "avg_20_o = np.sum(dlsarray[3,:])/10\n",
    "std_20_g = np.sqrt( np.sum((avg_20_o - dlsarray[3,:])**2) / (10*9))\n",
    "print(f'sum={sum20o}, r=20cm, geschlossene Belnde; \\n Durchschnitt ergibt sich zu {avg_20_o} ± {std_20_g} Einheit: microSv/hour')\n"
   ]
  },
  {
   "source": [
    "ideas for later\n",
    "use object classes somehow to streamline process since most calc share huge similarities\n",
    "i cant think in terms of objects yet though\n",
    "for the array calculation\n",
    "maybe make a dataframe from pandas\n",
    "but how\n",
    "or have an inputtable list that gets turned into an array \n",
    "maybe a multifile project with nestings\n"
   ],
   "cell_type": "markdown",
   "metadata": {}
  },
  {
   "source": [
    "Aufgabe; rechne effektiver Querschnitt aus\n"
   ],
   "cell_type": "markdown",
   "metadata": {}
  },
  {
   "cell_type": "code",
   "execution_count": 16,
   "metadata": {},
   "outputs": [
    {
     "output_type": "stream",
     "name": "stdout",
     "text": [
      "0.0009910516354542547\n3.787458479443012e-07\n3.787458479443012e-07\n1.4934968239668205e-11\nThe effektive Querschnittsfläche lautet 4.955258177271274e-06 ± 4.961189973184981e-06 m\n"
     ]
    }
   ],
   "source": [
    "#q_eff = A * e\n",
    "#z_punkt = (f_i * A * e ) / (4*pi*r^2)\n",
    "\n",
    "r_q = float(input('Inpute Abstand in cm: \\n'))\n",
    "r_q = r_q * (10**-2)\n",
    "\n",
    "delta_r_q = float(input('Inpute Unsicherheit von Abstand in mm: \\n'))\n",
    "delta_r_q = delta_r_q * (10**-3)\n",
    "\n",
    "a_kalib = float(input('Input Kalibrierquelle aktivität in kBq:\\n'))\n",
    "\n",
    "a_kalib = a_kalib * (10**3)\n",
    "\n",
    "delta_a_kalib = float(input('Input Unischerheit a value in kBq:\\n'))\n",
    "\n",
    "delta_a_kalib = delta_a_kalib*(10**3)\n",
    "\n",
    "z_punkt_del = (netto_zählrate_r_k - netto_zählrate_r_n) #Hintergrundstahlung abziehen\n",
    "\n",
    "q_eff = ( (4*math.pi*(r_q**2))*(z_punkt_del) ) / (a_kalib)\n",
    "\n",
    "#gaussian fehler = sqrt ( (ddr * delr)^2 + (ddzk*delzk)^2+(ddzu*delzu)^2 + (dda*dela)^2 ) \n",
    "ddr_q = abs((8*math.pi*z_punkt_del) / a_kalib)\n",
    "print(ddr_q)\n",
    "ddzk_q = abs((4*math.pi*(r_q**2) ) / a_kalib)\n",
    "print(ddzk_q)\n",
    "ddzu_q = abs((-4*math.pi*(r_q**2) ) / a_kalib)\n",
    "print(ddzu_q)\n",
    "dda_q = abs((-4*math.pi*(r_q**2)*z_punkt_del ) / (a_kalib**2))\n",
    "print(dda_q)\n",
    "\n",
    "gauss_q_eff = math.sqrt( (ddr_q*delta_r_q)**2 + (ddzk_q*gauss_r_k)**2 + (ddzu_q*gauss_r_n)**2 + (dda_q*delta_a_kalib)**2 )\n",
    "\n",
    "print(f'The effektive Querschnittsfläche lautet {q_eff} ± {gauss_q_eff} m')"
   ]
  },
  {
   "source": [
    "Berechne die Aktivität a des unbekanntes präparats"
   ],
   "cell_type": "markdown",
   "metadata": {}
  },
  {
   "cell_type": "code",
   "execution_count": null,
   "metadata": {},
   "outputs": [],
   "source": [
    "#a_punkt = z_punkt * 4pir^2 / Q_eff\n",
    "\n",
    "z_unbk_del = netto_zählrate_r_unbk - netto_zählrate_r_n\n",
    "#Hintergrund strahlung abziehen\n",
    "r_unbk_new = float(input('Abstand r in cm:\\n'))\n",
    "r_unbk_new = r_unbk_new * (10**(-2))\n",
    "a_unbk = ( z_unbk_del * 4 * math.pi * (r**2) ) / q_eff\n",
    "\n",
    "#Gaussian \n",
    "\n",
    "#gaussian fehler = sqrt ( (ddr * delr)^2 + (ddzk*delzk)^2+(ddzu*delzu)^2 + (dda*dela)^2 ) \n",
    "\n",
    "ddr_q = (8*math.pi*z_punkt_del) / a_kalib\n",
    "ddzk_q = (4*math.pi*(r_q**2) ) / a_kalib\n",
    "ddzu_q = (-4*math.pi*(r_q**2) ) / a_kalib\n",
    "dda_q = (-4*math.pi*(r_q**2)*z_punkt_del ) / (a_kalib**2)\n",
    "\n",
    "gauss_q_eff = math.sqrt( (ddr_q*delta_r_q)**2 + (ddzk_q*gauss_r_k)**2 + (ddzu_q*gauss_r_n)**2 + (dda_q*delta_a_kalib)**2 )\n",
    "\n",
    "print(f'The effektive Querschnittsfläche lautet {q_eff} ± {gauss_q_eff} m')\n"
   ]
  }
 ]
}